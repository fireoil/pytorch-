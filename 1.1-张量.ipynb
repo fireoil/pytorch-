{
 "cells": [
  {
   "cell_type": "code",
   "execution_count": 1,
   "metadata": {
    "ExecuteTime": {
     "end_time": "2019-02-15T13:01:35.572526Z",
     "start_time": "2019-02-15T13:01:33.977183Z"
    },
    "collapsed": true
   },
   "outputs": [],
   "source": [
    "import matplotlib\n",
    "%matplotlib inline\n",
    "import matplotlib.pyplot as plt"
   ]
  },
  {
   "cell_type": "markdown",
   "metadata": {},
   "source": [
    "什么是PyTorch?\n",
    "================\n",
    "PyTorch是基于Python的科学计算库，包括两个特点：\n",
    "- 可以认为PyTorch是可以很好利用GPUs的NumPy\n",
    "- 一个提供最大灵活性和速度的深度学习研究平台\n",
    "\n",
    "让我们开始吧！\n",
    "---------------\n",
    "Torch张量与NumPy的ndarrays很像，方便使用GPU进行加速运算。"
   ]
  },
  {
   "cell_type": "code",
   "execution_count": 2,
   "metadata": {
    "ExecuteTime": {
     "end_time": "2019-02-15T13:01:38.773464Z",
     "start_time": "2019-02-15T13:01:35.574434Z"
    },
    "collapsed": true
   },
   "outputs": [],
   "source": [
    "from __future__ import print_function\n",
    "import torch"
   ]
  },
  {
   "cell_type": "markdown",
   "metadata": {},
   "source": [
    "创建一个未初始化的5x3矩阵"
   ]
  },
  {
   "cell_type": "code",
   "execution_count": 3,
   "metadata": {
    "ExecuteTime": {
     "end_time": "2019-02-15T13:01:38.978334Z",
     "start_time": "2019-02-15T13:01:38.775337Z"
    }
   },
   "outputs": [
    {
     "name": "stdout",
     "output_type": "stream",
     "text": [
      "tensor([[-4.2757e+15,  4.5706e-41, -4.2757e+15],\n",
      "        [ 4.5706e-41,  1.3283e-08,  1.7186e-04],\n",
      "        [ 1.0801e-05,  1.6822e-04,  5.2480e-08],\n",
      "        [ 8.2647e+20,  8.4948e+20,  1.3150e+22],\n",
      "        [ 3.3497e-09,  4.2657e-08,  5.3735e-05]])\n"
     ]
    }
   ],
   "source": [
    "x = torch.empty(5, 3)\n",
    "print(x)"
   ]
  },
  {
   "cell_type": "markdown",
   "metadata": {},
   "source": [
    "创建一个随机初始化矩阵"
   ]
  },
  {
   "cell_type": "code",
   "execution_count": 4,
   "metadata": {
    "ExecuteTime": {
     "end_time": "2019-02-15T13:01:38.986325Z",
     "start_time": "2019-02-15T13:01:38.980611Z"
    }
   },
   "outputs": [
    {
     "name": "stdout",
     "output_type": "stream",
     "text": [
      "tensor([[0.5440, 0.5674, 0.5301],\n",
      "        [0.5652, 0.4678, 0.6458],\n",
      "        [0.0494, 0.4971, 0.5074],\n",
      "        [0.7826, 0.4193, 0.5726],\n",
      "        [0.5966, 0.4346, 0.1485]])\n"
     ]
    }
   ],
   "source": [
    "x = torch.rand(5, 3)\n",
    "print(x)"
   ]
  },
  {
   "cell_type": "markdown",
   "metadata": {},
   "source": [
    "创建一个long数据类型零矩阵"
   ]
  },
  {
   "cell_type": "code",
   "execution_count": 5,
   "metadata": {
    "ExecuteTime": {
     "end_time": "2019-02-15T13:01:39.474490Z",
     "start_time": "2019-02-15T13:01:38.988249Z"
    }
   },
   "outputs": [
    {
     "name": "stdout",
     "output_type": "stream",
     "text": [
      "tensor([[0, 0, 0],\n",
      "        [0, 0, 0],\n",
      "        [0, 0, 0],\n",
      "        [0, 0, 0],\n",
      "        [0, 0, 0]])\n"
     ]
    }
   ],
   "source": [
    "x = torch.zeros(5, 3, dtype=torch.long)\n",
    "print(x)"
   ]
  },
  {
   "cell_type": "markdown",
   "metadata": {},
   "source": [
    "直接从数据创建张量"
   ]
  },
  {
   "cell_type": "code",
   "execution_count": 6,
   "metadata": {
    "ExecuteTime": {
     "end_time": "2019-02-15T13:01:39.491714Z",
     "start_time": "2019-02-15T13:01:39.476468Z"
    }
   },
   "outputs": [
    {
     "name": "stdout",
     "output_type": "stream",
     "text": [
      "tensor([5.5000, 3.0000])\n"
     ]
    }
   ],
   "source": [
    "x = torch.tensor([5.5, 3])\n",
    "print(x)"
   ]
  },
  {
   "cell_type": "markdown",
   "metadata": {},
   "source": [
    "从已有的张量中创建张量。这些方法会使用输入张量的一些属性，例如数据类型dtype，但是不会使用已有张量的数据值"
   ]
  },
  {
   "cell_type": "code",
   "execution_count": 7,
   "metadata": {
    "ExecuteTime": {
     "end_time": "2019-02-15T13:01:39.515984Z",
     "start_time": "2019-02-15T13:01:39.494058Z"
    }
   },
   "outputs": [
    {
     "name": "stdout",
     "output_type": "stream",
     "text": [
      "tensor([[1., 1., 1.],\n",
      "        [1., 1., 1.],\n",
      "        [1., 1., 1.],\n",
      "        [1., 1., 1.],\n",
      "        [1., 1., 1.]], dtype=torch.float64)\n",
      "tensor([[-0.4980,  1.1899, -0.4753],\n",
      "        [-1.6577, -0.1259, -1.9142],\n",
      "        [-1.0422, -0.6243,  0.3144],\n",
      "        [-0.4593, -0.5345,  0.7847],\n",
      "        [ 1.4574,  1.7541,  1.5835]])\n"
     ]
    }
   ],
   "source": [
    "x = x.new_ones(5, 3, dtype=torch.double)      # new_*方法按照sizes尺寸创建tensor\n",
    "print(x)\n",
    "\n",
    "x = torch.randn_like(x, dtype=torch.float)    # 更改数据类型，重载数据类型dtype!\n",
    "print(x)                                      # 两种创建方式的结果拥有相同的尺寸"
   ]
  },
  {
   "cell_type": "markdown",
   "metadata": {},
   "source": [
    "得到数据的size"
   ]
  },
  {
   "cell_type": "code",
   "execution_count": 8,
   "metadata": {
    "ExecuteTime": {
     "end_time": "2019-02-15T13:01:39.538145Z",
     "start_time": "2019-02-15T13:01:39.517861Z"
    }
   },
   "outputs": [
    {
     "name": "stdout",
     "output_type": "stream",
     "text": [
      "torch.Size([5, 3])\n"
     ]
    }
   ],
   "source": [
    "print(x.size())"
   ]
  },
  {
   "cell_type": "markdown",
   "metadata": {},
   "source": [
    "<div class=\"alert alert-info\"><h4>记录</h4><p>``torch.Size``实际上是一个元组, 所以该变量都支持所有的元组操作。</p></div>\n",
    "\n",
    "操作\n",
    "有多个torch.tensor的语法操作。接下来的例子中，我们看一下加法操作"
   ]
  },
  {
   "cell_type": "markdown",
   "metadata": {},
   "source": [
    "加法: 语法1"
   ]
  },
  {
   "cell_type": "code",
   "execution_count": 9,
   "metadata": {
    "ExecuteTime": {
     "end_time": "2019-02-15T13:01:39.574472Z",
     "start_time": "2019-02-15T13:01:39.539759Z"
    }
   },
   "outputs": [
    {
     "name": "stdout",
     "output_type": "stream",
     "text": [
      "tensor([[ 0.0255,  1.4141, -0.0656],\n",
      "        [-1.0872,  0.3904, -1.0431],\n",
      "        [-0.4227, -0.1648,  0.4838],\n",
      "        [-0.1308,  0.2492,  1.0986],\n",
      "        [ 1.5024,  2.7532,  1.8516]])\n"
     ]
    }
   ],
   "source": [
    "y = torch.rand(5, 3)\n",
    "print(x + y)"
   ]
  },
  {
   "cell_type": "markdown",
   "metadata": {},
   "source": [
    "加法：语法2"
   ]
  },
  {
   "cell_type": "code",
   "execution_count": 10,
   "metadata": {
    "ExecuteTime": {
     "end_time": "2019-02-15T13:01:39.597966Z",
     "start_time": "2019-02-15T13:01:39.576232Z"
    }
   },
   "outputs": [
    {
     "name": "stdout",
     "output_type": "stream",
     "text": [
      "tensor([[ 0.0255,  1.4141, -0.0656],\n",
      "        [-1.0872,  0.3904, -1.0431],\n",
      "        [-0.4227, -0.1648,  0.4838],\n",
      "        [-0.1308,  0.2492,  1.0986],\n",
      "        [ 1.5024,  2.7532,  1.8516]])\n"
     ]
    }
   ],
   "source": [
    "print(torch.add(x, y))"
   ]
  },
  {
   "cell_type": "markdown",
   "metadata": {},
   "source": [
    "加法：设置输出张量为加法函数变量"
   ]
  },
  {
   "cell_type": "code",
   "execution_count": 11,
   "metadata": {
    "ExecuteTime": {
     "end_time": "2019-02-15T13:01:39.622139Z",
     "start_time": "2019-02-15T13:01:39.600091Z"
    }
   },
   "outputs": [
    {
     "name": "stdout",
     "output_type": "stream",
     "text": [
      "tensor([[ 0.0255,  1.4141, -0.0656],\n",
      "        [-1.0872,  0.3904, -1.0431],\n",
      "        [-0.4227, -0.1648,  0.4838],\n",
      "        [-0.1308,  0.2492,  1.0986],\n",
      "        [ 1.5024,  2.7532,  1.8516]])\n"
     ]
    }
   ],
   "source": [
    "result = torch.empty(5, 3)\n",
    "torch.add(x, y, out=result)\n",
    "print(result)"
   ]
  },
  {
   "cell_type": "markdown",
   "metadata": {},
   "source": [
    "加法：内置"
   ]
  },
  {
   "cell_type": "code",
   "execution_count": 12,
   "metadata": {
    "ExecuteTime": {
     "end_time": "2019-02-15T13:01:39.672933Z",
     "start_time": "2019-02-15T13:01:39.623875Z"
    }
   },
   "outputs": [
    {
     "name": "stdout",
     "output_type": "stream",
     "text": [
      "tensor([[ 0.0255,  1.4141, -0.0656],\n",
      "        [-1.0872,  0.3904, -1.0431],\n",
      "        [-0.4227, -0.1648,  0.4838],\n",
      "        [-0.1308,  0.2492,  1.0986],\n",
      "        [ 1.5024,  2.7532,  1.8516]])\n"
     ]
    }
   ],
   "source": [
    "# 将x加到y上，改变y的值\n",
    "y.add_(x)\n",
    "print(y)"
   ]
  },
  {
   "cell_type": "markdown",
   "metadata": {},
   "source": [
    "<div class=\"alert alert-info\"><h4>笔记</h4><p>对于张量运算而言，在对应的操作之后加上``_``可是以张量为类主体实现任意的操作。\n",
    "    例如: ``x.copy_(y)``, ``x.t_()``, 这些操作会改变 ``x``的值.</p></div>\n",
    "\n",
    "你也可以使用标准的类NumPy索引使用所有的修饰符！"
   ]
  },
  {
   "cell_type": "code",
   "execution_count": 13,
   "metadata": {
    "ExecuteTime": {
     "end_time": "2019-02-15T13:01:39.705915Z",
     "start_time": "2019-02-15T13:01:39.675050Z"
    }
   },
   "outputs": [
    {
     "name": "stdout",
     "output_type": "stream",
     "text": [
      "tensor([ 1.1899, -0.1259, -0.6243, -0.5345,  1.7541])\n"
     ]
    }
   ],
   "source": [
    "print(x[:, 1])"
   ]
  },
  {
   "cell_type": "markdown",
   "metadata": {},
   "source": [
    "张量尺寸变化：如果你想更改张量的尺寸，可以使用``torch.view``:"
   ]
  },
  {
   "cell_type": "code",
   "execution_count": 14,
   "metadata": {
    "ExecuteTime": {
     "end_time": "2019-02-15T13:01:39.754860Z",
     "start_time": "2019-02-15T13:01:39.707485Z"
    }
   },
   "outputs": [
    {
     "name": "stdout",
     "output_type": "stream",
     "text": [
      "torch.Size([4, 4]) torch.Size([16]) torch.Size([2, 8])\n"
     ]
    }
   ],
   "source": [
    "x = torch.randn(4, 4)\n",
    "y = x.view(16)\n",
    "z = x.view(-1, 8)  # 这里的-1将会按照其他维度的大小而自动调整\n",
    "print(x.size(), y.size(), z.size())"
   ]
  },
  {
   "cell_type": "markdown",
   "metadata": {},
   "source": [
    "如果你有只有一个元素的张量，可以使用``.item()``来获取这个张量的值。"
   ]
  },
  {
   "cell_type": "code",
   "execution_count": 15,
   "metadata": {
    "ExecuteTime": {
     "end_time": "2019-02-15T13:01:39.788366Z",
     "start_time": "2019-02-15T13:01:39.756926Z"
    }
   },
   "outputs": [
    {
     "name": "stdout",
     "output_type": "stream",
     "text": [
      "tensor([-0.7095])\n",
      "-0.7094669938087463\n"
     ]
    }
   ],
   "source": [
    "x = torch.randn(1)\n",
    "print(x)\n",
    "print(x.item())"
   ]
  },
  {
   "cell_type": "markdown",
   "metadata": {},
   "source": [
    "**进一步阅读:**\n",
    "\n",
    "  对于100+的张量操作，包括转置、索引、分割、数学操作、线性代数、随机数等等。\n",
    "  可以参考`这里 <https://pytorch.org/docs/torch>`.\n",
    "\n",
    "与NumPy的桥梁\n",
    "------------\n",
    "\n",
    "将Torch张量转换为NumPy阵列是很容易的，反之也是一样的\n",
    "\n",
    "Torch张量和NumPy阵列共享内存，因此改变一个将会改变另外一个。"
   ]
  },
  {
   "cell_type": "code",
   "execution_count": 16,
   "metadata": {
    "ExecuteTime": {
     "end_time": "2019-02-15T13:01:39.838181Z",
     "start_time": "2019-02-15T13:01:39.790000Z"
    }
   },
   "outputs": [
    {
     "name": "stdout",
     "output_type": "stream",
     "text": [
      "tensor([1., 1., 1., 1., 1.])\n"
     ]
    }
   ],
   "source": [
    "a = torch.ones(5)\n",
    "print(a)"
   ]
  },
  {
   "cell_type": "code",
   "execution_count": 17,
   "metadata": {
    "ExecuteTime": {
     "end_time": "2019-02-15T13:01:39.883412Z",
     "start_time": "2019-02-15T13:01:39.840089Z"
    }
   },
   "outputs": [
    {
     "name": "stdout",
     "output_type": "stream",
     "text": [
      "[ 1.  1.  1.  1.  1.]\n"
     ]
    }
   ],
   "source": [
    "b = a.numpy()\n",
    "print(b)"
   ]
  },
  {
   "cell_type": "markdown",
   "metadata": {},
   "source": [
    "来看看numpy阵列是如何改变Torch张量的。"
   ]
  },
  {
   "cell_type": "code",
   "execution_count": 18,
   "metadata": {
    "ExecuteTime": {
     "end_time": "2019-02-15T13:01:39.928623Z",
     "start_time": "2019-02-15T13:01:39.885350Z"
    }
   },
   "outputs": [
    {
     "name": "stdout",
     "output_type": "stream",
     "text": [
      "tensor([2., 2., 2., 2., 2.])\n",
      "[ 2.  2.  2.  2.  2.]\n"
     ]
    }
   ],
   "source": [
    "a.add_(1)\n",
    "print(a)\n",
    "print(b)"
   ]
  },
  {
   "cell_type": "markdown",
   "metadata": {},
   "source": [
    "将NumPy阵列转换为Torch张量\n",
    "\n",
    "看看np阵列是如何自动改变Torch张量的。"
   ]
  },
  {
   "cell_type": "code",
   "execution_count": 19,
   "metadata": {
    "ExecuteTime": {
     "end_time": "2019-02-15T13:01:39.975204Z",
     "start_time": "2019-02-15T13:01:39.931497Z"
    }
   },
   "outputs": [
    {
     "name": "stdout",
     "output_type": "stream",
     "text": [
      "[ 2.  2.  2.  2.  2.]\n",
      "tensor([2., 2., 2., 2., 2.], dtype=torch.float64)\n"
     ]
    }
   ],
   "source": [
    "import numpy as np\n",
    "a = np.ones(5)\n",
    "b = torch.from_numpy(a)\n",
    "np.add(a, 1, out=a)\n",
    "print(a)\n",
    "print(b)"
   ]
  },
  {
   "cell_type": "markdown",
   "metadata": {},
   "source": [
    "所有的CPU上张量除了字符张量都支持Torch张量和Numpy阵列的相互转换。\n",
    "\n",
    "CUDA张量\n",
    "------------\n",
    "\n",
    "张量可以使用``.to``方法实现数据传输到任意设备上，当然包括GPU。"
   ]
  },
  {
   "cell_type": "code",
   "execution_count": 20,
   "metadata": {
    "ExecuteTime": {
     "end_time": "2019-02-15T13:01:50.398301Z",
     "start_time": "2019-02-15T13:01:39.977396Z"
    }
   },
   "outputs": [
    {
     "name": "stdout",
     "output_type": "stream",
     "text": [
      "tensor([0.2905], device='cuda:0')\n",
      "tensor([0.2905], dtype=torch.float64)\n"
     ]
    }
   ],
   "source": [
    "# CUDA可用的话，if中的代码才会运行\n",
    "# 我们使用``torch.device``来实现张量移入和移出GPU\n",
    "if torch.cuda.is_available():\n",
    "    device = torch.device(\"cuda\")          # 一个CUDA设备对象\n",
    "    y = torch.ones_like(x, device=device)  # 在GPU上直接创建张量tensor\n",
    "    x = x.to(device)                       # 或者使用命令``.to(\"cuda\")``将tensor传入GPU\n",
    "    z = x + y\n",
    "    print(z)\n",
    "    print(z.to(\"cpu\", torch.double))       # ``.to``也可以改变数类型!"
   ]
  }
 ],
 "metadata": {
  "kernelspec": {
   "display_name": "Python 3",
   "language": "python",
   "name": "python3"
  },
  "language_info": {
   "codemirror_mode": {
    "name": "ipython",
    "version": 3
   },
   "file_extension": ".py",
   "mimetype": "text/x-python",
   "name": "python",
   "nbconvert_exporter": "python",
   "pygments_lexer": "ipython3",
   "version": "3.6.1"
  },
  "latex_envs": {
   "LaTeX_envs_menu_present": true,
   "autoclose": false,
   "autocomplete": true,
   "bibliofile": "biblio.bib",
   "cite_by": "apalike",
   "current_citInitial": 1,
   "eqLabelWithNumbers": true,
   "eqNumInitial": 1,
   "hotkeys": {
    "equation": "Ctrl-E",
    "itemize": "Ctrl-I"
   },
   "labels_anchors": false,
   "latex_user_defs": false,
   "report_style_numbering": false,
   "user_envs_cfg": false
  },
  "toc": {
   "base_numbering": 1,
   "nav_menu": {},
   "number_sections": true,
   "sideBar": true,
   "skip_h1_title": false,
   "title_cell": "Table of Contents",
   "title_sidebar": "Contents",
   "toc_cell": false,
   "toc_position": {},
   "toc_section_display": true,
   "toc_window_display": false
  }
 },
 "nbformat": 4,
 "nbformat_minor": 1
}
